{
 "cells": [
  {
   "cell_type": "markdown",
   "metadata": {},
   "source": [
    "# Deep Neural Networks\n",
    "This notebook will build on GLMs from the last section. As seen in the theoretical part, neural networks can be considered of vertically and horizontally stacked GLMs. That is, we learn a set of GLMs in parallel and stack multiple of such \"parallel GLMs\" in order to obtain a Deep Neural Network (DNN). Thus it's not surprising that one often optimizes the same objective function.\n",
    "\n",
    "In this hands-on section we will learn how to build DNNs using pytorch, the currently most popular DL-library for python. Since we deal with tabular data, we will focus on Mulit-Layer Perceptrons (MLPs)."
   ]
  },
  {
   "cell_type": "code",
   "execution_count": 101,
   "metadata": {},
   "outputs": [],
   "source": [
    "import numpy as np\n",
    "import pandas as pd\n",
    "import matplotlib.pyplot as plt\n",
    "import seaborn as sns\n",
    "import torch\n",
    "import torch.nn as nn\n",
    "import torch.nn.functional as F\n",
    "from torch.utils.data import DataLoader, Dataset\n",
    "from sklearn.model_selection import train_test_split\n",
    "from sklearn.metrics import accuracy_score, f1_score, r2_score, roc_curve, confusion_matrix\n",
    "from sklearn.preprocessing import StandardScaler, OneHotEncoder"
   ]
  },
  {
   "cell_type": "markdown",
   "metadata": {},
   "source": [
    "## Regression\n",
    "First, let's focus on regression again and build a regression model. "
   ]
  },
  {
   "cell_type": "code",
   "execution_count": 3,
   "metadata": {},
   "outputs": [],
   "source": [
    "class Regressor(nn.Module):\n",
    "\n",
    "    def __init__(self, in_dim, out_dim, hidden1_dim, hidden2_dim=None):\n",
    "        super().__init__()\n",
    "        self.linear1 = nn.Linear(in_dim, hidden1_dim)\n",
    "        if hidden2_dim is not None:\n",
    "            self.linear2 = nn.Linear(hidden1_dim, hidden2_dim)\n",
    "            self.out = nn.Linear(hidden2_dim, out_dim)\n",
    "        else:\n",
    "            self.linear2 = None\n",
    "            self.out = nn.Linear(hidden1_dim, out_dim)\n",
    "    \n",
    "    def forward(self, x):\n",
    "        \"\"\"\n",
    "            This method implements the forward-pass of a NN. Based on this, pytorch will automatically construct a computation graph\n",
    "            and cares about the backward-pass every time we will optimize our weights.\n",
    "            Thus we don't have to explicitly write down the gradients of our model w.r.t. each weight, this is done by pytorch.\n",
    "        \"\"\"\n",
    "        if self.linear2 is None:\n",
    "            x = F.leaky_relu(self.linear1(x), 0.01)\n",
    "            return self.out(x)\n",
    "        else:\n",
    "            x = F.leaky_relu(self.linear1(x), 0.01)\n",
    "            x = F.leaky_relu(self.linear2(x), 0.01)\n",
    "            return self.out(x)\n"
   ]
  },
  {
   "cell_type": "markdown",
   "metadata": {},
   "source": [
    "Now that we have defined our model, let's prepare the data accordingly. Pytorch has some handy classes to deal with data using a unified API. The `Dataset` and `Dataloader` classes are used to construct datasets which can then be used during training. They provide some nice functionalities like splitting data, providing iterators and so on. Let's prepare the data as done in the last section using a pytorch-`Dataset`."
   ]
  },
  {
   "cell_type": "code",
   "execution_count": 23,
   "metadata": {},
   "outputs": [],
   "source": [
    "class ClimateData(Dataset):\n",
    "\n",
    "    def __init__(self, root_dir, subset='train') -> None:\n",
    "        super().__init__()\n",
    "        self.root_dir = root_dir\n",
    "        self.subset = subset\n",
    "        assert subset == 'train' or subset == 'test'\n",
    "        self._load_data()\n",
    "\n",
    "    def __len__(self):\n",
    "        return len(self.X)\n",
    "    \n",
    "    def __getitem__(self, index):\n",
    "        return self.X[index], self.y[index]\n",
    "\n",
    "    def _load_data(self):\n",
    "        df = pd.read_csv(self.root_dir + self.subset + '.csv', index_col=0)\n",
    "        # extract labels\n",
    "        y = df['target']\n",
    "        X = df.drop(columns=['target'])\n",
    "\n",
    "        x_scaler = StandardScaler()\n",
    "        y_scaler = StandardScaler()\n",
    "        X_trans = x_scaler.fit_transform(X)\n",
    "        y_trans = y_scaler.fit_transform(y.to_numpy().reshape(-1, 1))\n",
    "        self.X = torch.FloatTensor(X_trans)\n",
    "        self.y = torch.FloatTensor(y_trans)"
   ]
  },
  {
   "cell_type": "code",
   "execution_count": 24,
   "metadata": {},
   "outputs": [],
   "source": [
    "train_set = ClimateData('../data/climate-data/', 'train')\n",
    "test_set = ClimateData('../data/climate-data/', 'test')\n",
    "train_loader = DataLoader(train_set, batch_size=64)\n",
    "test_loader = DataLoader(test_set, batch_size=64)"
   ]
  },
  {
   "cell_type": "code",
   "execution_count": 38,
   "metadata": {},
   "outputs": [],
   "source": [
    "model = Regressor(20, 1, 10)\n",
    "optimizer = torch.optim.SGD(model.parameters(), 0.01, 0.99)\n",
    "loss = nn.MSELoss()"
   ]
  },
  {
   "cell_type": "code",
   "execution_count": 39,
   "metadata": {},
   "outputs": [],
   "source": [
    "def train_epoch(model, data_loader, optim, loss):\n",
    "    running_loss = 0\n",
    "    for X, y in data_loader:\n",
    "        optim.zero_grad() # reset gradients, important!\n",
    "\n",
    "        y_hat = model(X) # forward pass\n",
    "        l = loss(y_hat, y)\n",
    "\n",
    "        running_loss += l.item()\n",
    "\n",
    "        l.backward() # backward pass\n",
    "        optim.step()\n",
    "    return running_loss"
   ]
  },
  {
   "cell_type": "code",
   "execution_count": 40,
   "metadata": {},
   "outputs": [
    {
     "name": "stdout",
     "output_type": "stream",
     "text": [
      "Loss in epoch 0: 10.754126749932766\n",
      "Loss in epoch 1: 8.944708310067654\n",
      "Loss in epoch 2: 6.862472541630268\n",
      "Loss in epoch 3: 6.038076940923929\n",
      "Loss in epoch 4: 5.696252787485719\n",
      "Loss in epoch 5: 3.4804781265556812\n",
      "Loss in epoch 6: 2.712674967944622\n",
      "Loss in epoch 7: 2.1108217537403107\n",
      "Loss in epoch 8: 1.7757404688745737\n",
      "Loss in epoch 9: 1.1607514834031463\n",
      "Loss in epoch 10: 1.1989953257143497\n",
      "Loss in epoch 11: 1.0199878979474306\n",
      "Loss in epoch 12: 0.8455186560750008\n",
      "Loss in epoch 13: 0.6627448722720146\n",
      "Loss in epoch 14: 0.607599064707756\n",
      "Loss in epoch 15: 0.45793080050498247\n",
      "Loss in epoch 16: 0.3995195762254298\n",
      "Loss in epoch 17: 0.3052476216107607\n",
      "Loss in epoch 18: 0.25906571140512824\n",
      "Loss in epoch 19: 0.24654284911230206\n",
      "Loss in epoch 20: 0.20614892477169633\n",
      "Loss in epoch 21: 0.15172622143290937\n",
      "Loss in epoch 22: 0.12251500855199993\n",
      "Loss in epoch 23: 0.1108349421992898\n",
      "Loss in epoch 24: 0.09518409590236843\n",
      "Loss in epoch 25: 0.0860516243847087\n",
      "Loss in epoch 26: 0.06998585385736078\n",
      "Loss in epoch 27: 0.051060788391623646\n",
      "Loss in epoch 28: 0.044733386661391705\n",
      "Loss in epoch 29: 0.04616408463334665\n"
     ]
    }
   ],
   "source": [
    "losses = []\n",
    "for e in range(0, 30):\n",
    "    epoch_loss = train_epoch(model, train_loader, optimizer, loss)\n",
    "    print(f\"Loss in epoch {e}: {epoch_loss}\")\n",
    "    losses.append(epoch_loss)"
   ]
  },
  {
   "cell_type": "code",
   "execution_count": 42,
   "metadata": {},
   "outputs": [
    {
     "data": {
      "image/png": "[encoded data removed]",
      "text/plain": [
       "<Figure size 864x648 with 1 Axes>"
      ]
     },
     "metadata": {
      "needs_background": "light"
     },
     "output_type": "display_data"
    }
   ],
   "source": [
    "fig = plt.figure(figsize=(12, 9))\n",
    "plt.plot(np.arange(0, len(losses)), losses)\n",
    "plt.xlabel('Epoch')\n",
    "plt.ylabel('Loss')\n",
    "plt.title('Loss curve of NN')\n",
    "plt.show()"
   ]
  },
  {
   "cell_type": "markdown",
   "metadata": {},
   "source": [
    "Let's evaluate how good our model performs!"
   ]
  },
  {
   "cell_type": "code",
   "execution_count": 48,
   "metadata": {},
   "outputs": [],
   "source": [
    "def test(model, data):\n",
    "    r_squares = []\n",
    "    for X, y in data:\n",
    "        y_hat = model(X)\n",
    "\n",
    "        r2 = r2_score(y.detach().cpu().numpy(), y_hat.detach().cpu().numpy())\n",
    "        r_squares.append(r2)\n",
    "    \n",
    "    return np.mean(r_squares)"
   ]
  },
  {
   "cell_type": "code",
   "execution_count": 49,
   "metadata": {},
   "outputs": [
    {
     "data": {
      "text/plain": [
       "0.9974575774730199"
      ]
     },
     "execution_count": 49,
     "metadata": {},
     "output_type": "execute_result"
    }
   ],
   "source": [
    "r2 = test(model, test_loader)\n",
    "r2"
   ]
  },
  {
   "cell_type": "markdown",
   "metadata": {},
   "source": [
    "We see, the NN works quite well! Let's see what this tells us. Note that we haven't done any manual feature engineering except for standardization in the dataset. In contrast, in the last section about GLMs we had to manually log-transform some features to enforce a linear relationship between our `X` and `y`. This is not required in DNNs and demonstrates the power of NN to automatically approximate arbitrary functions. \n",
    "\n",
    "> **NOTE**: NNs are very good function-approximators. However, don't forget that this comes at some cost: (1) the models tend to get much more complex than simple GLMs and (2) as a consequence NNs are much less interpretable than simpler approaches. For example, how would you try to assess how important a feature is based on the parameters of NNs? Quite hard, isn't it? For GLMs we could simply use the learnt weight as an indicator of importance.\n",
    "\n",
    "> **NOTE**: In the above model, we selected the LeakyReLU function as our activation function. Of course, we could have used different functions like ReLU, sigmoid or tanh. The choice of the activation function can heavily influence your model's performance and is one of many hyperparameters of our NN which we can tune. In the last years, ReLU and LeakyReLU have turned out to work well across many scenarios, so you can safely start with these as a good starting-point."
   ]
  },
  {
   "cell_type": "markdown",
   "metadata": {},
   "source": [
    "## Classification\n",
    "Now, let's see how we can employ a NN to perform classification. It's very similar to the above task. First, let's define our model again:"
   ]
  },
  {
   "cell_type": "code",
   "execution_count": 371,
   "metadata": {},
   "outputs": [],
   "source": [
    "class Classificator(nn.Module):\n",
    "\n",
    "    def __init__(self, in_dim, out_dim, hidden1_dim, hidden2_dim=None):\n",
    "        super().__init__()\n",
    "        self.linear1 = nn.Linear(in_dim, hidden1_dim)\n",
    "        if hidden2_dim is not None:\n",
    "            self.linear2 = nn.Linear(hidden1_dim, hidden2_dim)\n",
    "            self.out = nn.Linear(hidden2_dim, out_dim)\n",
    "        else:\n",
    "            self.linear2 = None\n",
    "            self.out = nn.Linear(hidden1_dim, out_dim)\n",
    "\n",
    "    def forward(self, x):\n",
    "        if self.linear2 is None:\n",
    "            x = F.leaky_relu(self.linear1(x), 0.01)\n",
    "            return F.log_softmax(self.out(x), dim=1)\n",
    "        else:\n",
    "            x = F.leaky_relu(self.linear1(x), 0.01)\n",
    "            x = F.leaky_relu(self.linear2(x), 0.01)\n",
    "            return F.log_softmax(self.out(x), dim=1)"
   ]
  },
  {
   "cell_type": "markdown",
   "metadata": {},
   "source": [
    "As you can see, the model is very similar to the one above (essentially it's the same). But how can we perform classification if our model outputs a linear transformation of the hidden node's values? Shouldn't we have something like the sigmoid again transforming our output to $[0, 1]$? Indeed, we already have it. You don't see it here, however pytorch will take care of this if we select the correct loss-function to optimize our model. We will make use of the `CrossEntropyLoss` which is a generalization of the simple `CrossEntropyLoss` we saw in the last section. This time, it supports an arbitrary number of classes. Pytorch will apply the `softmax`-function to our model-output before computing the loss. The `softmax`-function is defined as follows:\n",
    "\\begin{equation}\n",
    "\\text{softmax}_i(x) = \\frac{e^{x_i}}{\\sum_i e^{x_i}}\n",
    "\\end{equation}\n",
    "It returns a probability distribution over $n$ classes, assigning each class $i$ a probability weight according to the output $x_i$ hat was assigned to class $i$ by the NN."
   ]
  },
  {
   "cell_type": "code",
   "execution_count": 372,
   "metadata": {},
   "outputs": [],
   "source": [
    "class CreditData(Dataset):\n",
    "\n",
    "    def __init__(self, root_dir, subset='train') -> None:\n",
    "        super().__init__()\n",
    "        self.root_dir = root_dir\n",
    "        self.subset = subset\n",
    "        assert subset == 'train' or subset == 'test'\n",
    "        self._load_data()\n",
    "\n",
    "    def __len__(self):\n",
    "        return len(self.X)\n",
    "    \n",
    "    def __getitem__(self, index):\n",
    "        return self.X[index], self.y[index]\n",
    "\n",
    "    def _load_data(self):\n",
    "        df = pd.read_csv(self.root_dir + self.subset + '.csv', index_col=0)\n",
    "        # extract labels\n",
    "        y = df['target'].to_numpy()\n",
    "        X = df.drop(columns=['target']).to_numpy()\n",
    "\n",
    "        x_scaler = StandardScaler()\n",
    "        X_trans = x_scaler.fit_transform(X)\n",
    "        self.X = torch.FloatTensor(X_trans)\n",
    "        self.y = torch.LongTensor(y)"
   ]
  },
  {
   "cell_type": "code",
   "execution_count": 373,
   "metadata": {},
   "outputs": [],
   "source": [
    "train_set = CreditData('../data/credit-data/', 'train')\n",
    "test_set = CreditData('../data/credit-data/', 'test')\n",
    "train_loader = DataLoader(train_set, batch_size=64)\n",
    "test_loader = DataLoader(test_set, batch_size=64)"
   ]
  },
  {
   "cell_type": "code",
   "execution_count": 451,
   "metadata": {},
   "outputs": [],
   "source": [
    "model = Classificator(17, 3, 10)\n",
    "optimizer = torch.optim.SGD(model.parameters(), 0.01, momentum=0.9)\n",
    "loss = nn.CrossEntropyLoss(torch.tensor([0.9, 0.7, 0.9]))"
   ]
  },
  {
   "cell_type": "code",
   "execution_count": 452,
   "metadata": {},
   "outputs": [],
   "source": [
    "def train_epoch(model, data_loader, optim, loss):\n",
    "    running_loss = 0\n",
    "    for X, y in data_loader:\n",
    "        optim.zero_grad() # reset gradients, important!\n",
    "\n",
    "        y_hat = model(X) # forward pass\n",
    "        l = loss(input=y_hat, target=y)\n",
    "        l.backward() # backward pass\n",
    "        optim.step()\n",
    "        running_loss += l.item() / len(data_loader)\n",
    "    return running_loss"
   ]
  },
  {
   "cell_type": "code",
   "execution_count": 453,
   "metadata": {},
   "outputs": [
    {
     "name": "stdout",
     "output_type": "stream",
     "text": [
      "Loss in epoch 0: 1.0967831100736345\n",
      "Loss in epoch 1: 0.9866831877401898\n",
      "Loss in epoch 2: 0.9294568278959819\n",
      "Loss in epoch 3: 0.8868157523018972\n",
      "Loss in epoch 4: 0.865027442574501\n",
      "Loss in epoch 5: 0.8518403662102563\n",
      "Loss in epoch 6: 0.8418551683425903\n",
      "Loss in epoch 7: 0.8338421838624138\n",
      "Loss in epoch 8: 0.8272298063550677\n",
      "Loss in epoch 9: 0.821887080158506\n",
      "Loss in epoch 10: 0.8175233517374311\n",
      "Loss in epoch 11: 0.8136957628386363\n",
      "Loss in epoch 12: 0.8101265962634767\n",
      "Loss in epoch 13: 0.807194803442274\n",
      "Loss in epoch 14: 0.8044413434607641\n",
      "Loss in epoch 15: 0.802095509001187\n",
      "Loss in epoch 16: 0.8001869682754789\n",
      "Loss in epoch 17: 0.7984264748437063\n",
      "Loss in epoch 18: 0.7969815496887478\n",
      "Loss in epoch 19: 0.7957421434777122\n",
      "Loss in epoch 20: 0.7946325348956244\n",
      "Loss in epoch 21: 0.7936391127961021\n",
      "Loss in epoch 22: 0.7927355212824686\n",
      "Loss in epoch 23: 0.7919049667460576\n",
      "Loss in epoch 24: 0.7911954309259142\n",
      "Loss in epoch 25: 0.7905051772083557\n",
      "Loss in epoch 26: 0.7899410405329295\n",
      "Loss in epoch 27: 0.7893024555274418\n",
      "Loss in epoch 28: 0.788782115493502\n",
      "Loss in epoch 29: 0.7882375142404012\n",
      "Loss in epoch 30: 0.7877426807369506\n",
      "Loss in epoch 31: 0.7872119460787094\n",
      "Loss in epoch 32: 0.7866976580449514\n",
      "Loss in epoch 33: 0.7862219171864646\n",
      "Loss in epoch 34: 0.7857441902160648\n",
      "Loss in epoch 35: 0.7852833888360432\n",
      "Loss in epoch 36: 0.7847879486424582\n",
      "Loss in epoch 37: 0.7844223635537283\n",
      "Loss in epoch 38: 0.783985795719283\n",
      "Loss in epoch 39: 0.7835899016686848\n",
      "Loss in epoch 40: 0.7831729863371167\n",
      "Loss in epoch 41: 0.7827418063368116\n",
      "Loss in epoch 42: 0.782327522124563\n",
      "Loss in epoch 43: 0.7818579056433268\n",
      "Loss in epoch 44: 0.7813708228724343\n",
      "Loss in epoch 45: 0.7808775029012134\n",
      "Loss in epoch 46: 0.7804502546787262\n",
      "Loss in epoch 47: 0.7799139278275624\n",
      "Loss in epoch 48: 0.7793551108666829\n",
      "Loss in epoch 49: 0.7789157437426704\n",
      "Loss in epoch 50: 0.7783630469015668\n",
      "Loss in epoch 51: 0.777854146701949\n",
      "Loss in epoch 52: 0.777323224714824\n",
      "Loss in epoch 53: 0.7766890036208287\n",
      "Loss in epoch 54: 0.7761563339403698\n",
      "Loss in epoch 55: 0.7756346080984389\n",
      "Loss in epoch 56: 0.7750467828341892\n",
      "Loss in epoch 57: 0.7747116684913635\n",
      "Loss in epoch 58: 0.7741496115922927\n",
      "Loss in epoch 59: 0.7736738217728478\n",
      "Loss in epoch 60: 0.7732161666665758\n",
      "Loss in epoch 61: 0.7727512844971248\n",
      "Loss in epoch 62: 0.7723250261374882\n",
      "Loss in epoch 63: 0.7719531357288362\n",
      "Loss in epoch 64: 0.7715736606291361\n",
      "Loss in epoch 65: 0.7711634721074786\n",
      "Loss in epoch 66: 0.7708435079881122\n",
      "Loss in epoch 67: 0.7705304601362774\n",
      "Loss in epoch 68: 0.7701456866094042\n",
      "Loss in epoch 69: 0.7698367408343724\n",
      "Loss in epoch 70: 0.769575372338295\n",
      "Loss in epoch 71: 0.7691906924758639\n",
      "Loss in epoch 72: 0.7689778953790664\n",
      "Loss in epoch 73: 0.7684771801744188\n",
      "Loss in epoch 74: 0.7682323838983264\n",
      "Loss in epoch 75: 0.7677997265543256\n",
      "Loss in epoch 76: 0.7674433823142734\n",
      "Loss in epoch 77: 0.7670195336852756\n",
      "Loss in epoch 78: 0.7666163316794805\n",
      "Loss in epoch 79: 0.7662375484194076\n",
      "Loss in epoch 80: 0.7657787352800369\n",
      "Loss in epoch 81: 0.7655347436666489\n",
      "Loss in epoch 82: 0.7652010960238321\n",
      "Loss in epoch 83: 0.7648883994136537\n",
      "Loss in epoch 84: 0.764542988368443\n",
      "Loss in epoch 85: 0.7641451827117374\n",
      "Loss in epoch 86: 0.7638981384890419\n",
      "Loss in epoch 87: 0.7636024824210574\n",
      "Loss in epoch 88: 0.7631498788084302\n",
      "Loss in epoch 89: 0.7629148619515554\n",
      "Loss in epoch 90: 0.762550977723939\n",
      "Loss in epoch 91: 0.7623044720717838\n",
      "Loss in epoch 92: 0.7617907119648798\n",
      "Loss in epoch 93: 0.7616319847958429\n",
      "Loss in epoch 94: 0.7613099217414856\n",
      "Loss in epoch 95: 0.7611055246421268\n",
      "Loss in epoch 96: 0.7606907806226187\n",
      "Loss in epoch 97: 0.7605832410710197\n",
      "Loss in epoch 98: 0.7602475924151285\n",
      "Loss in epoch 99: 0.7600746495383126\n",
      "Loss in epoch 100: 0.759848415851593\n",
      "Loss in epoch 101: 0.7595381055559431\n",
      "Loss in epoch 102: 0.7593109777995519\n",
      "Loss in epoch 103: 0.759042169366564\n",
      "Loss in epoch 104: 0.7588369420596532\n",
      "Loss in epoch 105: 0.7584502803427833\n",
      "Loss in epoch 106: 0.7581996662276133\n",
      "Loss in epoch 107: 0.7579357006720134\n",
      "Loss in epoch 108: 0.7576775018657959\n",
      "Loss in epoch 109: 0.7573953121900557\n",
      "Loss in epoch 110: 0.7570882546050207\n",
      "Loss in epoch 111: 0.7569016878093993\n",
      "Loss in epoch 112: 0.7565832542521614\n",
      "Loss in epoch 113: 0.7563593366316386\n",
      "Loss in epoch 114: 0.7561159304210118\n",
      "Loss in epoch 115: 0.7559424000126974\n",
      "Loss in epoch 116: 0.7556153024945939\n",
      "Loss in epoch 117: 0.7554366162845068\n",
      "Loss in epoch 118: 0.7551403662988116\n",
      "Loss in epoch 119: 0.7551786473819188\n",
      "Loss in epoch 120: 0.7549227965729578\n",
      "Loss in epoch 121: 0.7546547310692922\n",
      "Loss in epoch 122: 0.7543503535645348\n",
      "Loss in epoch 123: 0.7544298874480383\n",
      "Loss in epoch 124: 0.7542629412242345\n",
      "Loss in epoch 125: 0.7538471072912217\n",
      "Loss in epoch 126: 0.7540066412517005\n",
      "Loss in epoch 127: 0.7536995708942414\n",
      "Loss in epoch 128: 0.7533816929374423\n",
      "Loss in epoch 129: 0.7534278801509313\n",
      "Loss in epoch 130: 0.7531503013202123\n",
      "Loss in epoch 131: 0.7528303861618042\n",
      "Loss in epoch 132: 0.752844559294837\n",
      "Loss in epoch 133: 0.7525236968483244\n",
      "Loss in epoch 134: 0.7523575531584875\n",
      "Loss in epoch 135: 0.7520327099731992\n",
      "Loss in epoch 136: 0.7521097894225803\n",
      "Loss in epoch 137: 0.7517600506544116\n",
      "Loss in epoch 138: 0.751495535884585\n",
      "Loss in epoch 139: 0.75121334195137\n",
      "Loss in epoch 140: 0.7510550639459064\n",
      "Loss in epoch 141: 0.75057330088956\n",
      "Loss in epoch 142: 0.7503796709435326\n",
      "Loss in epoch 143: 0.7500555962324141\n",
      "Loss in epoch 144: 0.7498803117445537\n",
      "Loss in epoch 145: 0.7494574040174484\n",
      "Loss in epoch 146: 0.7490171917847224\n",
      "Loss in epoch 147: 0.7490029100860867\n",
      "Loss in epoch 148: 0.7486486477511269\n",
      "Loss in epoch 149: 0.7483475293431963\n"
     ]
    }
   ],
   "source": [
    "losses = []\n",
    "for e in range(0, 150):\n",
    "    epoch_loss = train_epoch(model, train_loader, optimizer, loss)\n",
    "    print(f\"Loss in epoch {e}: {epoch_loss}\")\n",
    "    losses.append(epoch_loss)"
   ]
  },
  {
   "cell_type": "code",
   "execution_count": 454,
   "metadata": {},
   "outputs": [
    {
     "data": {
      "image/png": "[encoded data removed]",
      "text/plain": [
       "<Figure size 864x648 with 1 Axes>"
      ]
     },
     "metadata": {},
     "output_type": "display_data"
    }
   ],
   "source": [
    "fig = plt.figure(figsize=(12, 9))\n",
    "plt.plot(np.arange(0, len(losses)), losses)\n",
    "plt.xlabel('Epoch')\n",
    "plt.ylabel('Loss')\n",
    "plt.title('Loss curve of NN')\n",
    "plt.show()"
   ]
  },
  {
   "cell_type": "code",
   "execution_count": 455,
   "metadata": {},
   "outputs": [],
   "source": [
    "def test(model, data):\n",
    "    accs, f1s = [], []\n",
    "    conf_mat = None\n",
    "    for x, y in data:\n",
    "        y_hat = F.softmax(model(x), dim=1)\n",
    "        cls = torch.argmax(y_hat, dim=1)\n",
    "\n",
    "        cm = confusion_matrix(y, cls)\n",
    "        if conf_mat is None:\n",
    "            conf_mat = cm\n",
    "        else:\n",
    "            conf_mat += cm\n",
    "\n",
    "        acc = accuracy_score(y.detach().cpu().numpy(), cls.detach().cpu().numpy())\n",
    "        f1 = f1_score(y.detach().cpu().numpy(), cls.detach().cpu().numpy(), average='macro')\n",
    "\n",
    "        accs.append(acc)\n",
    "        f1s.append(f1)\n",
    "    return np.mean(accs), np.mean(f1s), conf_mat"
   ]
  },
  {
   "cell_type": "code",
   "execution_count": 456,
   "metadata": {},
   "outputs": [],
   "source": [
    "acc, f1, conf_mat = test(model, test_loader)"
   ]
  },
  {
   "cell_type": "code",
   "execution_count": 457,
   "metadata": {},
   "outputs": [
    {
     "data": {
      "text/plain": [
       "<AxesSubplot:>"
      ]
     },
     "execution_count": 457,
     "metadata": {},
     "output_type": "execute_result"
    },
    {
     "data": {
      "image/png": "[encoded data removed]",
      "text/plain": [
       "<Figure size 864x648 with 2 Axes>"
      ]
     },
     "metadata": {},
     "output_type": "display_data"
    }
   ],
   "source": [
    "df = pd.DataFrame(data=conf_mat)\n",
    "fig = plt.figure(figsize=(12, 9))\n",
    "sns.set(font_scale=1.5)\n",
    "sns.heatmap(df, annot=True, annot_kws={\"size\": 16})"
   ]
  },
  {
   "cell_type": "code",
   "execution_count": 458,
   "metadata": {},
   "outputs": [
    {
     "data": {
      "text/plain": [
       "0.6107717803030303"
      ]
     },
     "execution_count": 458,
     "metadata": {},
     "output_type": "execute_result"
    }
   ],
   "source": [
    "acc"
   ]
  },
  {
   "cell_type": "code",
   "execution_count": 442,
   "metadata": {},
   "outputs": [
    {
     "data": {
      "text/plain": [
       "0.5632061837349882"
      ]
     },
     "execution_count": 442,
     "metadata": {},
     "output_type": "execute_result"
    }
   ],
   "source": [
    "f1"
   ]
  },
  {
   "cell_type": "markdown",
   "metadata": {},
   "source": [
    "We see that the NN does not work very well on this dataset. We esepcially obtain many misclassifications where the NN predicts class 1 although it should be class 2. What can we do about this? Either we tune the network's architecture and hyperparameters or we try to balance the class-weights. Try the first one first (it's easy to do)."
   ]
  },
  {
   "cell_type": "code",
   "execution_count": null,
   "metadata": {},
   "outputs": [],
   "source": [
    "# load data\n",
    "data = pd.read_csv('../data/credit-data/prepared_data.csv', index_col=0)\n",
    "\n",
    "# extract labels\n",
    "y = data['Credit_Score'].to_numpy()\n",
    "X = data.drop(columns=['Credit_Score']).to_numpy()"
   ]
  },
  {
   "cell_type": "code",
   "execution_count": 397,
   "metadata": {},
   "outputs": [
    {
     "name": "stdout",
     "output_type": "stream",
     "text": [
      "Weight c1: 0.2986550632911392\n",
      "Weight c2: 0.524129746835443\n",
      "Weight c3: 0.17721518987341772\n"
     ]
    }
   ],
   "source": [
    "print(f\"Weight c1: {len(y[y == 0]) / len(y)}\")\n",
    "print(f\"Weight c2: {len(y[y == 1]) / len(y)}\")\n",
    "print(f\"Weight c3: {len(y[y == 2]) / len(y)}\")"
   ]
  },
  {
   "cell_type": "markdown",
   "metadata": {},
   "source": [
    "Let's summarize: In this section we have seen how to use DNNs (in particular MLPs) to perform regression and classification tasks. We obtained that in our case, a MLP works very well for regression while it's not working that well in our classification-task. However, note that this is no general statement! That said, NNs are function approximators, they don't favour regression tasks over classification tasks and vice versa. \n",
    "\n",
    "Lessons learned with DNNs:\n",
    "1. They can achieve greate performances\n",
    "2. They are hard(er) to debug and interpret\n",
    "3. simpler models sometimes achieve better results while being interpretable (especially on tabular data)\n",
    "\n",
    "One last statement you should be aware of every time you plan to use ML: **Try simple methods first, then go for complex ones!**"
   ]
  },
  {
   "cell_type": "code",
   "execution_count": null,
   "metadata": {},
   "outputs": [],
   "source": []
  }
 ],
 "metadata": {
  "kernelspec": {
   "display_name": "Python 3.9.10 ('automl')",
   "language": "python",
   "name": "python3"
  },
  "language_info": {
   "codemirror_mode": {
    "name": "ipython",
    "version": 3
   },
   "file_extension": ".py",
   "mimetype": "text/x-python",
   "name": "python",
   "nbconvert_exporter": "python",
   "pygments_lexer": "ipython3",
   "version": "3.9.10"
  },
  "orig_nbformat": 4,
  "vscode": {
   "interpreter": {
    "hash": "7613325ebbb1f9384bc508bcd9660c9ee63eceea61e5a048c9a384ab1815eea9"
   }
  }
 },
 "nbformat": 4,
 "nbformat_minor": 2
}
